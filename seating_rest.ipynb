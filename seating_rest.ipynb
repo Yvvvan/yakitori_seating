{
 "cells": [
  {
   "cell_type": "code",
   "execution_count": 28,
   "metadata": {},
   "outputs": [
    {
     "data": {
      "text/plain": [
       "0"
      ]
     },
     "execution_count": 28,
     "metadata": {},
     "output_type": "execute_result"
    }
   ],
   "source": [
    "# 读取csv\n",
    "import csv\n",
    "# 随机打乱座位\n",
    "import random\n",
    "\n",
    "seating_plan = {} \n",
    "\n",
    "with open('a_yakitori_draw.csv', 'r') as f:\n",
    "    reader = csv.reader(f)\n",
    "    # 读取csv文件\n",
    "    rows = [row for row in reader]\n",
    "    # 跳过第一行\n",
    "    rows = rows[1:]\n",
    "    for row in rows:\n",
    "        seating_plan[row[1]] = int(row[3])  # user account, seat number\n",
    "    \n",
    "# remove 'yufan'\n",
    "seating_plan.pop('yufan')"
   ]
  },
  {
   "cell_type": "code",
   "execution_count": 29,
   "metadata": {},
   "outputs": [],
   "source": [
    "# used number = seating_plan.values() to set, remove 0, to list\n",
    "used_number = list(set(seating_plan.values()))\n",
    "used_number.remove(0)\n",
    "unused_number = [i for i in range(1, 77) if i not in used_number]"
   ]
  },
  {
   "cell_type": "code",
   "execution_count": 30,
   "metadata": {},
   "outputs": [
    {
     "data": {
      "text/plain": [
       "[2,\n",
       " 3,\n",
       " 5,\n",
       " 7,\n",
       " 9,\n",
       " 11,\n",
       " 15,\n",
       " 17,\n",
       " 18,\n",
       " 22,\n",
       " 27,\n",
       " 29,\n",
       " 34,\n",
       " 35,\n",
       " 36,\n",
       " 38,\n",
       " 39,\n",
       " 40,\n",
       " 41,\n",
       " 42,\n",
       " 44,\n",
       " 45,\n",
       " 46,\n",
       " 47,\n",
       " 48,\n",
       " 49,\n",
       " 50,\n",
       " 52,\n",
       " 53,\n",
       " 54,\n",
       " 56,\n",
       " 59,\n",
       " 62,\n",
       " 63,\n",
       " 64,\n",
       " 66,\n",
       " 68,\n",
       " 69,\n",
       " 72,\n",
       " 74,\n",
       " 75,\n",
       " 76]"
      ]
     },
     "execution_count": 30,
     "metadata": {},
     "output_type": "execute_result"
    }
   ],
   "source": [
    "unused_number"
   ]
  },
  {
   "cell_type": "code",
   "execution_count": 31,
   "metadata": {},
   "outputs": [
    {
     "data": {
      "text/plain": [
       "[1,\n",
       " 4,\n",
       " 6,\n",
       " 8,\n",
       " 10,\n",
       " 12,\n",
       " 13,\n",
       " 14,\n",
       " 16,\n",
       " 19,\n",
       " 20,\n",
       " 21,\n",
       " 23,\n",
       " 24,\n",
       " 25,\n",
       " 26,\n",
       " 28,\n",
       " 30,\n",
       " 31,\n",
       " 32,\n",
       " 33,\n",
       " 37,\n",
       " 43,\n",
       " 51,\n",
       " 55,\n",
       " 57,\n",
       " 58,\n",
       " 60,\n",
       " 61,\n",
       " 65,\n",
       " 67,\n",
       " 70,\n",
       " 71,\n",
       " 73]"
      ]
     },
     "execution_count": 31,
     "metadata": {},
     "output_type": "execute_result"
    }
   ],
   "source": [
    "used_number"
   ]
  },
  {
   "cell_type": "code",
   "execution_count": 32,
   "metadata": {},
   "outputs": [],
   "source": [
    "random.seed(20240619)\n",
    "import copy\n",
    "unused_number_copy = copy.deepcopy(unused_number)\n",
    "seating_plan_copy = copy.deepcopy(seating_plan)\n",
    "\n",
    "for p in seating_plan_copy:\n",
    "    if seating_plan_copy[p] == 0:\n",
    "        seating_plan_copy[p] = random.choice(unused_number_copy)\n",
    "        unused_number_copy.remove(seating_plan_copy[p])"
   ]
  },
  {
   "cell_type": "code",
   "execution_count": 33,
   "metadata": {},
   "outputs": [
    {
     "data": {
      "text/plain": [
       "[]"
      ]
     },
     "execution_count": 33,
     "metadata": {},
     "output_type": "execute_result"
    }
   ],
   "source": [
    "unused_number_copy"
   ]
  },
  {
   "cell_type": "code",
   "execution_count": 34,
   "metadata": {},
   "outputs": [
    {
     "name": "stdout",
     "output_type": "stream",
     "text": [
      "th 3\n",
      "mi 75\n",
      "ti 11\n",
      "na 52\n",
      "si 33\n",
      "ti 21\n",
      "jo 34\n",
      "ji 9\n",
      "zh 62\n",
      "ju 64\n",
      "pe 41\n",
      "hi 63\n",
      "da 15\n",
      "ye 49\n",
      "ma 19\n",
      "ol 7\n",
      "ch 58\n",
      "la 10\n",
      "pe 1\n",
      "al 65\n",
      "va 46\n",
      "we 12\n",
      "no 55\n",
      "ma 27\n",
      "ol 6\n",
      "th 61\n",
      "so 68\n",
      "zu 29\n",
      "da 30\n",
      "an 39\n",
      "ad 17\n",
      "ju 76\n",
      "pa 38\n",
      "ma 70\n",
      "ma 57\n",
      "ju 8\n",
      "sa 45\n",
      "fa 24\n",
      "sv 20\n",
      "ma 66\n",
      "an 60\n",
      "my 44\n",
      "an 22\n",
      "ja 71\n",
      "vi 50\n",
      "ka 51\n",
      "li 56\n",
      "du 40\n",
      "ja 69\n",
      "ma 54\n",
      "el 37\n",
      "so 31\n",
      "ra 36\n",
      "mo 32\n",
      "tr 72\n",
      "th 73\n",
      "ro 2\n",
      "jo 26\n",
      "qi 23\n",
      "be 48\n",
      "se 42\n",
      "he 47\n",
      "ar 25\n",
      "zh 5\n",
      "me 35\n",
      "ks 43\n",
      "an 4\n",
      "mi 13\n",
      "ke 28\n",
      "we 74\n",
      "pa 59\n",
      "ts 67\n",
      "ch 18\n",
      "il 53\n",
      "ru 14\n",
      "ou 16\n"
     ]
    }
   ],
   "source": [
    "for p in seating_plan_copy:\n",
    "    print(p[:2], seating_plan_copy[p])"
   ]
  },
  {
   "cell_type": "code",
   "execution_count": 27,
   "metadata": {},
   "outputs": [],
   "source": [
    "## wirte to csv and save to database\n",
    "\n",
    "with open('a_yakitori_draw_seated.csv', 'w', newline='') as f:\n",
    "    with open ('a_yakitori_draw.csv', 'r') as f2:\n",
    "        reader = csv.reader(f2)\n",
    "        writer = csv.writer(f)\n",
    "        writer.writerow(next(reader))\n",
    "        for row in reader:\n",
    "            if row[1] == 'yufan':\n",
    "                break\n",
    "            row[3] = seating_plan_copy[row[1]]\n",
    "            writer.writerow(row)"
   ]
  },
  {
   "cell_type": "code",
   "execution_count": null,
   "metadata": {},
   "outputs": [],
   "source": []
  }
 ],
 "metadata": {
  "kernelspec": {
   "display_name": "play",
   "language": "python",
   "name": "python3"
  },
  "language_info": {
   "codemirror_mode": {
    "name": "ipython",
    "version": 3
   },
   "file_extension": ".py",
   "mimetype": "text/x-python",
   "name": "python",
   "nbconvert_exporter": "python",
   "pygments_lexer": "ipython3",
   "version": "3.7.12"
  }
 },
 "nbformat": 4,
 "nbformat_minor": 2
}
